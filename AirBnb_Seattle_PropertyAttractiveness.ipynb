{
 "cells": [
  {
   "cell_type": "code",
   "execution_count": 1,
   "metadata": {},
   "outputs": [],
   "source": [
    "import pandas as pd\n",
    "import numpy as np\n",
    "import matplotlib.pyplot as plt\n",
    "\n",
    "from mpl_toolkits.basemap import Basemap\n",
    "from matplotlib.patches import Polygon\n",
    "from matplotlib.collections import LineCollection\n",
    "import matplotlib as mpl\n",
    "from matplotlib.colors import rgb2hex\n",
    "\n",
    "\n",
    "from IPython.core.interactiveshell import InteractiveShell\n",
    "InteractiveShell.ast_node_interactivity = \"all\""
   ]
  },
  {
   "cell_type": "code",
   "execution_count": 2,
   "metadata": {},
   "outputs": [],
   "source": [
    "df_cal = pd.read_csv('calendar.csv')\n",
    "df_list = pd.read_csv('listings.csv')"
   ]
  },
  {
   "cell_type": "markdown",
   "metadata": {},
   "source": [
    "# Exploratory data analysis"
   ]
  },
  {
   "cell_type": "code",
   "execution_count": 3,
   "metadata": {},
   "outputs": [
    {
     "name": "stdout",
     "output_type": "stream",
     "text": [
      "<class 'pandas.core.frame.DataFrame'>\n",
      "RangeIndex: 1393570 entries, 0 to 1393569\n",
      "Data columns (total 4 columns):\n",
      " #   Column      Non-Null Count    Dtype \n",
      "---  ------      --------------    ----- \n",
      " 0   listing_id  1393570 non-null  int64 \n",
      " 1   date        1393570 non-null  object\n",
      " 2   available   1393570 non-null  object\n",
      " 3   price       934542 non-null   object\n",
      "dtypes: int64(1), object(3)\n",
      "memory usage: 42.5+ MB\n"
     ]
    }
   ],
   "source": [
    "df_cal.info()"
   ]
  },
  {
   "cell_type": "code",
   "execution_count": 4,
   "metadata": {},
   "outputs": [
    {
     "data": {
      "text/plain": [
       "listing_id         0\n",
       "date               0\n",
       "available          0\n",
       "price         459028\n",
       "dtype: int64"
      ]
     },
     "execution_count": 4,
     "metadata": {},
     "output_type": "execute_result"
    }
   ],
   "source": [
    "df_cal.isnull().sum()"
   ]
  },
  {
   "cell_type": "markdown",
   "metadata": {},
   "source": [
    "Note that in the price column there are 459028 out of 1393570 (32.94%) missing values. Seems like when a property is not available the price is NaN."
   ]
  },
  {
   "cell_type": "code",
   "execution_count": 5,
   "metadata": {},
   "outputs": [
    {
     "data": {
      "text/html": [
       "<div>\n",
       "<style scoped>\n",
       "    .dataframe tbody tr th:only-of-type {\n",
       "        vertical-align: middle;\n",
       "    }\n",
       "\n",
       "    .dataframe tbody tr th {\n",
       "        vertical-align: top;\n",
       "    }\n",
       "\n",
       "    .dataframe thead th {\n",
       "        text-align: right;\n",
       "    }\n",
       "</style>\n",
       "<table border=\"1\" class=\"dataframe\">\n",
       "  <thead>\n",
       "    <tr style=\"text-align: right;\">\n",
       "      <th></th>\n",
       "      <th>listing_id</th>\n",
       "      <th>date</th>\n",
       "      <th>available</th>\n",
       "      <th>price</th>\n",
       "    </tr>\n",
       "  </thead>\n",
       "  <tbody>\n",
       "    <tr>\n",
       "      <th>0</th>\n",
       "      <td>241032</td>\n",
       "      <td>2016-01-04</td>\n",
       "      <td>t</td>\n",
       "      <td>$85.00</td>\n",
       "    </tr>\n",
       "    <tr>\n",
       "      <th>1</th>\n",
       "      <td>241032</td>\n",
       "      <td>2016-01-05</td>\n",
       "      <td>t</td>\n",
       "      <td>$85.00</td>\n",
       "    </tr>\n",
       "    <tr>\n",
       "      <th>2</th>\n",
       "      <td>241032</td>\n",
       "      <td>2016-01-06</td>\n",
       "      <td>f</td>\n",
       "      <td>NaN</td>\n",
       "    </tr>\n",
       "    <tr>\n",
       "      <th>3</th>\n",
       "      <td>241032</td>\n",
       "      <td>2016-01-07</td>\n",
       "      <td>f</td>\n",
       "      <td>NaN</td>\n",
       "    </tr>\n",
       "    <tr>\n",
       "      <th>4</th>\n",
       "      <td>241032</td>\n",
       "      <td>2016-01-08</td>\n",
       "      <td>f</td>\n",
       "      <td>NaN</td>\n",
       "    </tr>\n",
       "  </tbody>\n",
       "</table>\n",
       "</div>"
      ],
      "text/plain": [
       "   listing_id        date available   price\n",
       "0      241032  2016-01-04         t  $85.00\n",
       "1      241032  2016-01-05         t  $85.00\n",
       "2      241032  2016-01-06         f     NaN\n",
       "3      241032  2016-01-07         f     NaN\n",
       "4      241032  2016-01-08         f     NaN"
      ]
     },
     "execution_count": 5,
     "metadata": {},
     "output_type": "execute_result"
    }
   ],
   "source": [
    "df_cal.head()"
   ]
  },
  {
   "cell_type": "code",
   "execution_count": 6,
   "metadata": {},
   "outputs": [],
   "source": [
    "# Change date to datetime\n",
    "df_cal['date'] = pd.to_datetime(df_cal['date'])"
   ]
  },
  {
   "cell_type": "code",
   "execution_count": 7,
   "metadata": {},
   "outputs": [
    {
     "data": {
      "text/plain": [
       "3818"
      ]
     },
     "execution_count": 7,
     "metadata": {},
     "output_type": "execute_result"
    },
    {
     "data": {
      "text/plain": [
       "365"
      ]
     },
     "execution_count": 7,
     "metadata": {},
     "output_type": "execute_result"
    }
   ],
   "source": [
    "df_cal['listing_id'].nunique()\n",
    "df_cal['date'].nunique()"
   ]
  },
  {
   "cell_type": "code",
   "execution_count": 8,
   "metadata": {},
   "outputs": [
    {
     "data": {
      "text/plain": [
       "Timestamp('2016-01-04 00:00:00')"
      ]
     },
     "execution_count": 8,
     "metadata": {},
     "output_type": "execute_result"
    },
    {
     "data": {
      "text/plain": [
       "Timestamp('2017-01-02 00:00:00')"
      ]
     },
     "execution_count": 8,
     "metadata": {},
     "output_type": "execute_result"
    }
   ],
   "source": [
    "df_cal['date'].min()\n",
    "df_cal['date'].max()"
   ]
  },
  {
   "cell_type": "markdown",
   "metadata": {},
   "source": [
    "The dataframe df_cal has 1393570 rows which contain information for 3818 properties for 365 days (from Jan 4, 2016 to Jan 2, 2017). \n",
    "The 'price' column is of type object and has a dollar sign and ',' as separator. We will remove them and convert the column to numeric."
   ]
  },
  {
   "cell_type": "code",
   "execution_count": 9,
   "metadata": {},
   "outputs": [],
   "source": [
    "# Clean 'price'\n",
    "df_cal['price'] = df_cal['price'].str.replace('$','').str.replace(',','').astype(float)"
   ]
  },
  {
   "cell_type": "markdown",
   "metadata": {},
   "source": [
    "How many of the houses were rented at least once during our observarion period?"
   ]
  },
  {
   "cell_type": "code",
   "execution_count": 10,
   "metadata": {},
   "outputs": [],
   "source": [
    "# Convert 'available' to boolean\n",
    "df_cal.loc[df_cal['available']=='t', 'available'] = True\n",
    "df_cal.loc[df_cal['available']=='f', 'available'] = False\n",
    "df_cal['available'] = df_cal['available'].astype(bool)"
   ]
  },
  {
   "cell_type": "code",
   "execution_count": 11,
   "metadata": {},
   "outputs": [],
   "source": [
    "#create aggregate table\n",
    "df_cal_agg = pd.DataFrame({\n",
    "    'booked_days': 365 - df_cal.groupby('listing_id')['available'].sum(),\n",
    "    'min_price': df_cal.groupby('listing_id')['price'].min(),\n",
    "    'max_price': df_cal.groupby('listing_id')['price'].max(),\n",
    "#    'min_max_price_diff': df_cal.groupby('listing_id')['price'].apply(lambda x: max(x) - min(x)) # FIXME: why doesn't this work?!?!\n",
    "}).reset_index()"
   ]
  },
  {
   "cell_type": "code",
   "execution_count": 12,
   "metadata": {},
   "outputs": [
    {
     "data": {
      "text/html": [
       "<div>\n",
       "<style scoped>\n",
       "    .dataframe tbody tr th:only-of-type {\n",
       "        vertical-align: middle;\n",
       "    }\n",
       "\n",
       "    .dataframe tbody tr th {\n",
       "        vertical-align: top;\n",
       "    }\n",
       "\n",
       "    .dataframe thead th {\n",
       "        text-align: right;\n",
       "    }\n",
       "</style>\n",
       "<table border=\"1\" class=\"dataframe\">\n",
       "  <thead>\n",
       "    <tr style=\"text-align: right;\">\n",
       "      <th></th>\n",
       "      <th>listing_id</th>\n",
       "      <th>booked_days</th>\n",
       "      <th>min_price</th>\n",
       "      <th>max_price</th>\n",
       "    </tr>\n",
       "  </thead>\n",
       "  <tbody>\n",
       "    <tr>\n",
       "      <th>0</th>\n",
       "      <td>3335</td>\n",
       "      <td>56.0</td>\n",
       "      <td>120.0</td>\n",
       "      <td>120.0</td>\n",
       "    </tr>\n",
       "    <tr>\n",
       "      <th>1</th>\n",
       "      <td>4291</td>\n",
       "      <td>0.0</td>\n",
       "      <td>82.0</td>\n",
       "      <td>82.0</td>\n",
       "    </tr>\n",
       "    <tr>\n",
       "      <th>2</th>\n",
       "      <td>5682</td>\n",
       "      <td>56.0</td>\n",
       "      <td>42.0</td>\n",
       "      <td>60.0</td>\n",
       "    </tr>\n",
       "    <tr>\n",
       "      <th>3</th>\n",
       "      <td>6606</td>\n",
       "      <td>0.0</td>\n",
       "      <td>90.0</td>\n",
       "      <td>100.0</td>\n",
       "    </tr>\n",
       "    <tr>\n",
       "      <th>4</th>\n",
       "      <td>7369</td>\n",
       "      <td>312.0</td>\n",
       "      <td>85.0</td>\n",
       "      <td>85.0</td>\n",
       "    </tr>\n",
       "  </tbody>\n",
       "</table>\n",
       "</div>"
      ],
      "text/plain": [
       "   listing_id  booked_days  min_price  max_price\n",
       "0        3335         56.0      120.0      120.0\n",
       "1        4291          0.0       82.0       82.0\n",
       "2        5682         56.0       42.0       60.0\n",
       "3        6606          0.0       90.0      100.0\n",
       "4        7369        312.0       85.0       85.0"
      ]
     },
     "execution_count": 12,
     "metadata": {},
     "output_type": "execute_result"
    }
   ],
   "source": [
    "df_cal_agg.head()"
   ]
  },
  {
   "cell_type": "code",
   "execution_count": 13,
   "metadata": {},
   "outputs": [
    {
     "name": "stdout",
     "output_type": "stream",
     "text": [
      "There were 678 properties that were never booked and 95 that were booked all of the time!\n"
     ]
    }
   ],
   "source": [
    "print('There were {} properties that were never booked and {} that were booked all of the time!' \\\n",
    "      .format(df_cal_agg[df_cal_agg['booked_days'] == 0]['listing_id'].nunique(), df_cal_agg[df_cal_agg['booked_days'] == 365]['listing_id'].nunique()))"
   ]
  },
  {
   "cell_type": "code",
   "execution_count": 14,
   "metadata": {},
   "outputs": [
    {
     "data": {
      "image/png": "[encoded data removed]",
      "text/plain": [
       "<Figure size 432x288 with 1 Axes>"
      ]
     },
     "metadata": {
      "needs_background": "light"
     },
     "output_type": "display_data"
    }
   ],
   "source": [
    "plt.hist(df_cal_agg['booked_days'], bins=20)\n",
    "plt.title('Booked Days per Property')\n",
    "plt.xlabel('Booked days')\n",
    "plt.ylabel('Number of properties')\n",
    "\n",
    "plt.savefig('Booked Days per Property');"
   ]
  },
  {
   "cell_type": "code",
   "execution_count": 15,
   "metadata": {},
   "outputs": [
    {
     "name": "stdout",
     "output_type": "stream",
     "text": [
      "Percentage of never booked properties: 17.7579884756417\n",
      "Percentage of properties booked less than 10% of the time: 27.658459926663177\n",
      "Percentage of properties booked more than 75% of the time: 20.27239392352017\n"
     ]
    }
   ],
   "source": [
    "print('Percentage of never booked properties:', df_cal_agg[df_cal_agg['booked_days'] == 0].shape[0]/df_cal_agg.shape[0]*100)\n",
    "print('Percentage of properties booked less than 10% of the time:', df_cal_agg[(df_cal_agg['booked_days'] > 0) & (df_cal_agg['booked_days'] < 0.1*365)].shape[0]/df_cal_agg.shape[0]*100)\n",
    "print('Percentage of properties booked more than 75% of the time:', df_cal_agg[df_cal_agg['booked_days'] > 0.75*365].shape[0]/df_cal_agg.shape[0]*100)"
   ]
  },
  {
   "cell_type": "markdown",
   "metadata": {},
   "source": [
    "Surprisingly, most of the properties were either never booked or booked less than 10% of the time. "
   ]
  },
  {
   "cell_type": "markdown",
   "metadata": {},
   "source": [
    "Now let's look at the dataset containing more information about the properties."
   ]
  },
  {
   "cell_type": "code",
   "execution_count": 16,
   "metadata": {},
   "outputs": [
    {
     "name": "stdout",
     "output_type": "stream",
     "text": [
      "<class 'pandas.core.frame.DataFrame'>\n",
      "RangeIndex: 3818 entries, 0 to 3817\n",
      "Data columns (total 92 columns):\n",
      " #   Column                            Non-Null Count  Dtype  \n",
      "---  ------                            --------------  -----  \n",
      " 0   id                                3818 non-null   int64  \n",
      " 1   listing_url                       3818 non-null   object \n",
      " 2   scrape_id                         3818 non-null   int64  \n",
      " 3   last_scraped                      3818 non-null   object \n",
      " 4   name                              3818 non-null   object \n",
      " 5   summary                           3641 non-null   object \n",
      " 6   space                             3249 non-null   object \n",
      " 7   description                       3818 non-null   object \n",
      " 8   experiences_offered               3818 non-null   object \n",
      " 9   neighborhood_overview             2786 non-null   object \n",
      " 10  notes                             2212 non-null   object \n",
      " 11  transit                           2884 non-null   object \n",
      " 12  thumbnail_url                     3498 non-null   object \n",
      " 13  medium_url                        3498 non-null   object \n",
      " 14  picture_url                       3818 non-null   object \n",
      " 15  xl_picture_url                    3498 non-null   object \n",
      " 16  host_id                           3818 non-null   int64  \n",
      " 17  host_url                          3818 non-null   object \n",
      " 18  host_name                         3816 non-null   object \n",
      " 19  host_since                        3816 non-null   object \n",
      " 20  host_location                     3810 non-null   object \n",
      " 21  host_about                        2959 non-null   object \n",
      " 22  host_response_time                3295 non-null   object \n",
      " 23  host_response_rate                3295 non-null   object \n",
      " 24  host_acceptance_rate              3045 non-null   object \n",
      " 25  host_is_superhost                 3816 non-null   object \n",
      " 26  host_thumbnail_url                3816 non-null   object \n",
      " 27  host_picture_url                  3816 non-null   object \n",
      " 28  host_neighbourhood                3518 non-null   object \n",
      " 29  host_listings_count               3816 non-null   float64\n",
      " 30  host_total_listings_count         3816 non-null   float64\n",
      " 31  host_verifications                3818 non-null   object \n",
      " 32  host_has_profile_pic              3816 non-null   object \n",
      " 33  host_identity_verified            3816 non-null   object \n",
      " 34  street                            3818 non-null   object \n",
      " 35  neighbourhood                     3402 non-null   object \n",
      " 36  neighbourhood_cleansed            3818 non-null   object \n",
      " 37  neighbourhood_group_cleansed      3818 non-null   object \n",
      " 38  city                              3818 non-null   object \n",
      " 39  state                             3818 non-null   object \n",
      " 40  zipcode                           3811 non-null   object \n",
      " 41  market                            3818 non-null   object \n",
      " 42  smart_location                    3818 non-null   object \n",
      " 43  country_code                      3818 non-null   object \n",
      " 44  country                           3818 non-null   object \n",
      " 45  latitude                          3818 non-null   float64\n",
      " 46  longitude                         3818 non-null   float64\n",
      " 47  is_location_exact                 3818 non-null   object \n",
      " 48  property_type                     3817 non-null   object \n",
      " 49  room_type                         3818 non-null   object \n",
      " 50  accommodates                      3818 non-null   int64  \n",
      " 51  bathrooms                         3802 non-null   float64\n",
      " 52  bedrooms                          3812 non-null   float64\n",
      " 53  beds                              3817 non-null   float64\n",
      " 54  bed_type                          3818 non-null   object \n",
      " 55  amenities                         3818 non-null   object \n",
      " 56  square_feet                       97 non-null     float64\n",
      " 57  price                             3818 non-null   object \n",
      " 58  weekly_price                      2009 non-null   object \n",
      " 59  monthly_price                     1517 non-null   object \n",
      " 60  security_deposit                  1866 non-null   object \n",
      " 61  cleaning_fee                      2788 non-null   object \n",
      " 62  guests_included                   3818 non-null   int64  \n",
      " 63  extra_people                      3818 non-null   object \n",
      " 64  minimum_nights                    3818 non-null   int64  \n",
      " 65  maximum_nights                    3818 non-null   int64  \n",
      " 66  calendar_updated                  3818 non-null   object \n",
      " 67  has_availability                  3818 non-null   object \n",
      " 68  availability_30                   3818 non-null   int64  \n",
      " 69  availability_60                   3818 non-null   int64  \n",
      " 70  availability_90                   3818 non-null   int64  \n",
      " 71  availability_365                  3818 non-null   int64  \n",
      " 72  calendar_last_scraped             3818 non-null   object \n",
      " 73  number_of_reviews                 3818 non-null   int64  \n",
      " 74  first_review                      3191 non-null   object \n",
      " 75  last_review                       3191 non-null   object \n",
      " 76  review_scores_rating              3171 non-null   float64\n",
      " 77  review_scores_accuracy            3160 non-null   float64\n",
      " 78  review_scores_cleanliness         3165 non-null   float64\n",
      " 79  review_scores_checkin             3160 non-null   float64\n",
      " 80  review_scores_communication       3167 non-null   float64\n",
      " 81  review_scores_location            3163 non-null   float64\n",
      " 82  review_scores_value               3162 non-null   float64\n",
      " 83  requires_license                  3818 non-null   object \n",
      " 84  license                           0 non-null      float64\n",
      " 85  jurisdiction_names                3818 non-null   object \n",
      " 86  instant_bookable                  3818 non-null   object \n",
      " 87  cancellation_policy               3818 non-null   object \n",
      " 88  require_guest_profile_picture     3818 non-null   object \n",
      " 89  require_guest_phone_verification  3818 non-null   object \n",
      " 90  calculated_host_listings_count    3818 non-null   int64  \n",
      " 91  reviews_per_month                 3191 non-null   float64\n",
      "dtypes: float64(17), int64(13), object(62)\n",
      "memory usage: 2.7+ MB\n"
     ]
    }
   ],
   "source": [
    "df_list.info()"
   ]
  },
  {
   "cell_type": "code",
   "execution_count": 17,
   "metadata": {},
   "outputs": [
    {
     "name": "stdout",
     "output_type": "stream",
     "text": [
      "The table df_list contains information about 3818 listings (same as df_cal?).\n"
     ]
    }
   ],
   "source": [
    "number_prop = df_cal['listing_id'].nunique()\n",
    "print(\"The table df_list contains information about {} listings (same as df_cal?).\".format(number_prop))"
   ]
  },
  {
   "cell_type": "markdown",
   "metadata": {},
   "source": [
    "Most of the columns have pretty good coverage. Only 'license' and 'square_feet' have 0 and 97 non-null elements resp.\n",
    "Again, the columns containing price need to be cleaned."
   ]
  },
  {
   "cell_type": "code",
   "execution_count": 18,
   "metadata": {},
   "outputs": [],
   "source": [
    "# Clean the price fields\n",
    "for pr in ['price', 'weekly_price', 'monthly_price']:\n",
    "    df_list[pr] = df_list[pr].str.replace('$','').str.replace(',','').astype(float)"
   ]
  },
  {
   "cell_type": "code",
   "execution_count": 19,
   "metadata": {},
   "outputs": [
    {
     "name": "stdout",
     "output_type": "stream",
     "text": [
      "['WA' 'wa']\n",
      "['Seattle' 'Ballard, Seattle' 'West Seattle' 'Seattle ' '西雅图'\n",
      " 'Phinney Ridge Seattle' 'seattle']\n",
      "['98119' '98109' '98107' '98117' nan '98103' '98105' '98115' '98101'\n",
      " '98122' '98112' '98144' '99\\n98122' '98121' '98102' '98199' '98104'\n",
      " '98134' '98136' '98126' '98146' '98116' '98177' '98118' '98108' '98133'\n",
      " '98106' '98178' '98125']\n",
      "['moderate' 'strict' 'flexible']\n",
      "['Apartment' 'House' 'Cabin' 'Condominium' 'Camper/RV' 'Bungalow'\n",
      " 'Townhouse' 'Loft' 'Boat' 'Bed & Breakfast' 'Other' 'Dorm' 'Treehouse'\n",
      " 'Yurt' 'Chalet' 'Tent' nan]\n",
      "['Entire home/apt' 'Private room' 'Shared room']\n"
     ]
    }
   ],
   "source": [
    "# Get unique values per column\n",
    "for col in ['state', 'city', 'zipcode', 'cancellation_policy', 'property_type', 'room_type']:\n",
    "    print(df_list[col].unique())"
   ]
  },
  {
   "cell_type": "markdown",
   "metadata": {},
   "source": [
    "# Merge the two dataset"
   ]
  },
  {
   "cell_type": "code",
   "execution_count": 20,
   "metadata": {},
   "outputs": [],
   "source": [
    "# Right merge df_list and df_cal_agg\n",
    "df = df_list[['id', 'price', 'zipcode', 'bedrooms', 'accommodates', 'number_of_reviews', 'cancellation_policy', 'property_type', 'room_type']] \\\n",
    "        .merge(df_cal_agg, how='right', left_on='id', right_on='listing_id')"
   ]
  },
  {
   "cell_type": "code",
   "execution_count": 21,
   "metadata": {},
   "outputs": [
    {
     "data": {
      "text/plain": [
       "(3818, 13)"
      ]
     },
     "execution_count": 21,
     "metadata": {},
     "output_type": "execute_result"
    },
    {
     "name": "stdout",
     "output_type": "stream",
     "text": [
      "<class 'pandas.core.frame.DataFrame'>\n",
      "Int64Index: 3818 entries, 0 to 3817\n",
      "Data columns (total 13 columns):\n",
      " #   Column               Non-Null Count  Dtype  \n",
      "---  ------               --------------  -----  \n",
      " 0   id                   3818 non-null   int64  \n",
      " 1   price                3818 non-null   float64\n",
      " 2   zipcode              3811 non-null   object \n",
      " 3   bedrooms             3812 non-null   float64\n",
      " 4   accommodates         3818 non-null   int64  \n",
      " 5   number_of_reviews    3818 non-null   int64  \n",
      " 6   cancellation_policy  3818 non-null   object \n",
      " 7   property_type        3817 non-null   object \n",
      " 8   room_type            3818 non-null   object \n",
      " 9   listing_id           3818 non-null   int64  \n",
      " 10  booked_days          3818 non-null   float64\n",
      " 11  min_price            3723 non-null   float64\n",
      " 12  max_price            3723 non-null   float64\n",
      "dtypes: float64(5), int64(4), object(4)\n",
      "memory usage: 417.6+ KB\n"
     ]
    }
   ],
   "source": [
    "df.shape\n",
    "df.info()"
   ]
  },
  {
   "cell_type": "code",
   "execution_count": 22,
   "metadata": {},
   "outputs": [
    {
     "data": {
      "text/html": [
       "<div>\n",
       "<style scoped>\n",
       "    .dataframe tbody tr th:only-of-type {\n",
       "        vertical-align: middle;\n",
       "    }\n",
       "\n",
       "    .dataframe tbody tr th {\n",
       "        vertical-align: top;\n",
       "    }\n",
       "\n",
       "    .dataframe thead th {\n",
       "        text-align: right;\n",
       "    }\n",
       "</style>\n",
       "<table border=\"1\" class=\"dataframe\">\n",
       "  <thead>\n",
       "    <tr style=\"text-align: right;\">\n",
       "      <th></th>\n",
       "      <th>id</th>\n",
       "      <th>price</th>\n",
       "      <th>zipcode</th>\n",
       "      <th>bedrooms</th>\n",
       "      <th>accommodates</th>\n",
       "      <th>number_of_reviews</th>\n",
       "      <th>cancellation_policy</th>\n",
       "      <th>property_type</th>\n",
       "      <th>room_type</th>\n",
       "      <th>listing_id</th>\n",
       "      <th>booked_days</th>\n",
       "      <th>min_price</th>\n",
       "      <th>max_price</th>\n",
       "    </tr>\n",
       "  </thead>\n",
       "  <tbody>\n",
       "    <tr>\n",
       "      <th>0</th>\n",
       "      <td>241032</td>\n",
       "      <td>85.0</td>\n",
       "      <td>98119</td>\n",
       "      <td>1.0</td>\n",
       "      <td>4</td>\n",
       "      <td>207</td>\n",
       "      <td>moderate</td>\n",
       "      <td>Apartment</td>\n",
       "      <td>Entire home/apt</td>\n",
       "      <td>241032</td>\n",
       "      <td>19.0</td>\n",
       "      <td>85.0</td>\n",
       "      <td>85.0</td>\n",
       "    </tr>\n",
       "    <tr>\n",
       "      <th>1</th>\n",
       "      <td>953595</td>\n",
       "      <td>150.0</td>\n",
       "      <td>98119</td>\n",
       "      <td>1.0</td>\n",
       "      <td>4</td>\n",
       "      <td>43</td>\n",
       "      <td>strict</td>\n",
       "      <td>Apartment</td>\n",
       "      <td>Entire home/apt</td>\n",
       "      <td>953595</td>\n",
       "      <td>74.0</td>\n",
       "      <td>125.0</td>\n",
       "      <td>439.0</td>\n",
       "    </tr>\n",
       "    <tr>\n",
       "      <th>2</th>\n",
       "      <td>3308979</td>\n",
       "      <td>975.0</td>\n",
       "      <td>98119</td>\n",
       "      <td>5.0</td>\n",
       "      <td>11</td>\n",
       "      <td>20</td>\n",
       "      <td>strict</td>\n",
       "      <td>House</td>\n",
       "      <td>Entire home/apt</td>\n",
       "      <td>3308979</td>\n",
       "      <td>145.0</td>\n",
       "      <td>500.0</td>\n",
       "      <td>1650.0</td>\n",
       "    </tr>\n",
       "    <tr>\n",
       "      <th>3</th>\n",
       "      <td>7421966</td>\n",
       "      <td>100.0</td>\n",
       "      <td>98119</td>\n",
       "      <td>0.0</td>\n",
       "      <td>3</td>\n",
       "      <td>0</td>\n",
       "      <td>flexible</td>\n",
       "      <td>Apartment</td>\n",
       "      <td>Entire home/apt</td>\n",
       "      <td>7421966</td>\n",
       "      <td>222.0</td>\n",
       "      <td>100.0</td>\n",
       "      <td>100.0</td>\n",
       "    </tr>\n",
       "    <tr>\n",
       "      <th>4</th>\n",
       "      <td>278830</td>\n",
       "      <td>450.0</td>\n",
       "      <td>98119</td>\n",
       "      <td>3.0</td>\n",
       "      <td>6</td>\n",
       "      <td>38</td>\n",
       "      <td>strict</td>\n",
       "      <td>House</td>\n",
       "      <td>Entire home/apt</td>\n",
       "      <td>278830</td>\n",
       "      <td>0.0</td>\n",
       "      <td>450.0</td>\n",
       "      <td>600.0</td>\n",
       "    </tr>\n",
       "    <tr>\n",
       "      <th>5</th>\n",
       "      <td>5956968</td>\n",
       "      <td>120.0</td>\n",
       "      <td>98119</td>\n",
       "      <td>1.0</td>\n",
       "      <td>2</td>\n",
       "      <td>17</td>\n",
       "      <td>strict</td>\n",
       "      <td>House</td>\n",
       "      <td>Private room</td>\n",
       "      <td>5956968</td>\n",
       "      <td>63.0</td>\n",
       "      <td>120.0</td>\n",
       "      <td>140.0</td>\n",
       "    </tr>\n",
       "    <tr>\n",
       "      <th>6</th>\n",
       "      <td>1909058</td>\n",
       "      <td>80.0</td>\n",
       "      <td>98119</td>\n",
       "      <td>1.0</td>\n",
       "      <td>2</td>\n",
       "      <td>58</td>\n",
       "      <td>moderate</td>\n",
       "      <td>House</td>\n",
       "      <td>Private room</td>\n",
       "      <td>1909058</td>\n",
       "      <td>19.0</td>\n",
       "      <td>80.0</td>\n",
       "      <td>80.0</td>\n",
       "    </tr>\n",
       "    <tr>\n",
       "      <th>7</th>\n",
       "      <td>856550</td>\n",
       "      <td>60.0</td>\n",
       "      <td>98119</td>\n",
       "      <td>1.0</td>\n",
       "      <td>2</td>\n",
       "      <td>173</td>\n",
       "      <td>strict</td>\n",
       "      <td>Cabin</td>\n",
       "      <td>Private room</td>\n",
       "      <td>856550</td>\n",
       "      <td>265.0</td>\n",
       "      <td>42.0</td>\n",
       "      <td>62.0</td>\n",
       "    </tr>\n",
       "    <tr>\n",
       "      <th>8</th>\n",
       "      <td>4948745</td>\n",
       "      <td>90.0</td>\n",
       "      <td>98109</td>\n",
       "      <td>1.0</td>\n",
       "      <td>2</td>\n",
       "      <td>8</td>\n",
       "      <td>strict</td>\n",
       "      <td>Apartment</td>\n",
       "      <td>Private room</td>\n",
       "      <td>4948745</td>\n",
       "      <td>24.0</td>\n",
       "      <td>90.0</td>\n",
       "      <td>90.0</td>\n",
       "    </tr>\n",
       "    <tr>\n",
       "      <th>9</th>\n",
       "      <td>2493658</td>\n",
       "      <td>150.0</td>\n",
       "      <td>98119</td>\n",
       "      <td>1.0</td>\n",
       "      <td>4</td>\n",
       "      <td>32</td>\n",
       "      <td>strict</td>\n",
       "      <td>Apartment</td>\n",
       "      <td>Entire home/apt</td>\n",
       "      <td>2493658</td>\n",
       "      <td>41.0</td>\n",
       "      <td>125.0</td>\n",
       "      <td>439.0</td>\n",
       "    </tr>\n",
       "  </tbody>\n",
       "</table>\n",
       "</div>"
      ],
      "text/plain": [
       "        id  price zipcode  bedrooms  accommodates  number_of_reviews  \\\n",
       "0   241032   85.0   98119       1.0             4                207   \n",
       "1   953595  150.0   98119       1.0             4                 43   \n",
       "2  3308979  975.0   98119       5.0            11                 20   \n",
       "3  7421966  100.0   98119       0.0             3                  0   \n",
       "4   278830  450.0   98119       3.0             6                 38   \n",
       "5  5956968  120.0   98119       1.0             2                 17   \n",
       "6  1909058   80.0   98119       1.0             2                 58   \n",
       "7   856550   60.0   98119       1.0             2                173   \n",
       "8  4948745   90.0   98109       1.0             2                  8   \n",
       "9  2493658  150.0   98119       1.0             4                 32   \n",
       "\n",
       "  cancellation_policy property_type        room_type  listing_id  booked_days  \\\n",
       "0            moderate     Apartment  Entire home/apt      241032         19.0   \n",
       "1              strict     Apartment  Entire home/apt      953595         74.0   \n",
       "2              strict         House  Entire home/apt     3308979        145.0   \n",
       "3            flexible     Apartment  Entire home/apt     7421966        222.0   \n",
       "4              strict         House  Entire home/apt      278830          0.0   \n",
       "5              strict         House     Private room     5956968         63.0   \n",
       "6            moderate         House     Private room     1909058         19.0   \n",
       "7              strict         Cabin     Private room      856550        265.0   \n",
       "8              strict     Apartment     Private room     4948745         24.0   \n",
       "9              strict     Apartment  Entire home/apt     2493658         41.0   \n",
       "\n",
       "   min_price  max_price  \n",
       "0       85.0       85.0  \n",
       "1      125.0      439.0  \n",
       "2      500.0     1650.0  \n",
       "3      100.0      100.0  \n",
       "4      450.0      600.0  \n",
       "5      120.0      140.0  \n",
       "6       80.0       80.0  \n",
       "7       42.0       62.0  \n",
       "8       90.0       90.0  \n",
       "9      125.0      439.0  "
      ]
     },
     "execution_count": 22,
     "metadata": {},
     "output_type": "execute_result"
    }
   ],
   "source": [
    "df.head(10)"
   ]
  },
  {
   "cell_type": "markdown",
   "metadata": {},
   "source": [
    "## What's the most popular property size?"
   ]
  },
  {
   "cell_type": "markdown",
   "metadata": {},
   "source": [
    "Since the column 'square_feet' contains only 97 non-null elements, we're going to use the number of bedrooms as proxy for the size.\n",
    "The most popular size for house is with 1 bedroom, followed by 2 and 0 bedrooms. There are less than 100 properties with more than 3 bedrooms. "
   ]
  },
  {
   "cell_type": "code",
   "execution_count": 23,
   "metadata": {},
   "outputs": [
    {
     "name": "stdout",
     "output_type": "stream",
     "text": [
      "Since there are only 0.16% rows with missing values we are going to drop them.\n"
     ]
    }
   ],
   "source": [
    "print('Since there are only {}% rows with missing values we are going to drop them.'.format(round(df['bedrooms'].isnull().mean()*100, 2)))"
   ]
  },
  {
   "cell_type": "code",
   "execution_count": 24,
   "metadata": {},
   "outputs": [],
   "source": [
    "df = df[~df['bedrooms'].isnull()]"
   ]
  },
  {
   "cell_type": "code",
   "execution_count": 25,
   "metadata": {},
   "outputs": [
    {
     "data": {
      "text/plain": [
       "1.0    2417\n",
       "2.0     640\n",
       "0.0     372\n",
       "3.0     283\n",
       "4.0      69\n",
       "5.0      24\n",
       "6.0       6\n",
       "7.0       1\n",
       "Name: bedrooms, dtype: int64"
      ]
     },
     "execution_count": 25,
     "metadata": {},
     "output_type": "execute_result"
    }
   ],
   "source": [
    "df['bedrooms'].value_counts()"
   ]
  },
  {
   "cell_type": "code",
   "execution_count": 26,
   "metadata": {},
   "outputs": [
    {
     "data": {
      "image/png": "[encoded data removed]",
      "text/plain": [
       "<Figure size 432x288 with 1 Axes>"
      ]
     },
     "metadata": {
      "needs_background": "light"
     },
     "output_type": "display_data"
    }
   ],
   "source": [
    "#center the bins at the integers and plt a histogram\n",
    "bins = np.arange(df['bedrooms'].min(), df['bedrooms'].max() + 1.5) - 0.5\n",
    "plt.hist(df['bedrooms'], bins=bins)\n",
    "plt.title('Properties count by number of bedrooms')\n",
    "plt.xlabel('Number of bedrooms')\n",
    "plt.ylabel('Properties count')\n",
    "plt.savefig('Properties count by number of bedrooms');"
   ]
  },
  {
   "cell_type": "markdown",
   "metadata": {},
   "source": [
    "We see that the most of the listed properties are with 1 bedroom, followed by the ones with 2 bedrooms, and studios. But let's check how many of these properties (as %) got booked. To do this we first sum all days on which such properties were booked and normalize by dividing by the total number of days the properties were available (365)."
   ]
  },
  {
   "cell_type": "code",
   "execution_count": 27,
   "metadata": {},
   "outputs": [
    {
     "data": {
      "image/png": "[encoded data removed]",
      "text/plain": [
       "<Figure size 432x288 with 1 Axes>"
      ]
     },
     "metadata": {
      "needs_background": "light"
     },
     "output_type": "display_data"
    }
   ],
   "source": [
    "grouped_bedrooms= df.groupby('bedrooms')['booked_days'].apply(lambda x: x.sum()/(x.count()*365))\n",
    "# grouped_bedrooms['bedrooms'] = grouped_bedrooms['bedrooms'].astype(int)\n",
    "grouped_bedrooms.plot(kind='bar')\n",
    "plt.xticks([0, 1, 2,3, 4, 5, 6, 7], [0, 1, 2,3, 4, 5, 6, 7], rotation=0)\n",
    "plt.xlabel('Number of bedrooms')\n",
    "plt.ylabel('Percent of time booked')\n",
    "plt.title('Percent of time booked per number of bedrooms')\n",
    "plt.savefig('Percent of time booked per number of bedrooms');"
   ]
  },
  {
   "cell_type": "code",
   "execution_count": 28,
   "metadata": {},
   "outputs": [
    {
     "data": {
      "text/html": [
       "<div>\n",
       "<style scoped>\n",
       "    .dataframe tbody tr th:only-of-type {\n",
       "        vertical-align: middle;\n",
       "    }\n",
       "\n",
       "    .dataframe tbody tr th {\n",
       "        vertical-align: top;\n",
       "    }\n",
       "\n",
       "    .dataframe thead th {\n",
       "        text-align: right;\n",
       "    }\n",
       "</style>\n",
       "<table border=\"1\" class=\"dataframe\">\n",
       "  <thead>\n",
       "    <tr style=\"text-align: right;\">\n",
       "      <th></th>\n",
       "      <th>id</th>\n",
       "      <th>price</th>\n",
       "      <th>bedrooms</th>\n",
       "      <th>accommodates</th>\n",
       "      <th>number_of_reviews</th>\n",
       "      <th>listing_id</th>\n",
       "      <th>booked_days</th>\n",
       "      <th>min_price</th>\n",
       "      <th>max_price</th>\n",
       "    </tr>\n",
       "  </thead>\n",
       "  <tbody>\n",
       "    <tr>\n",
       "      <th>count</th>\n",
       "      <td>6.900000e+01</td>\n",
       "      <td>69.000000</td>\n",
       "      <td>69.0</td>\n",
       "      <td>69.000000</td>\n",
       "      <td>69.000000</td>\n",
       "      <td>6.900000e+01</td>\n",
       "      <td>69.000000</td>\n",
       "      <td>61.000000</td>\n",
       "      <td>61.000000</td>\n",
       "    </tr>\n",
       "    <tr>\n",
       "      <th>mean</th>\n",
       "      <td>5.872371e+06</td>\n",
       "      <td>313.695652</td>\n",
       "      <td>4.0</td>\n",
       "      <td>8.275362</td>\n",
       "      <td>8.246377</td>\n",
       "      <td>5.872371e+06</td>\n",
       "      <td>183.753623</td>\n",
       "      <td>288.196721</td>\n",
       "      <td>357.639344</td>\n",
       "    </tr>\n",
       "    <tr>\n",
       "      <th>std</th>\n",
       "      <td>2.919063e+06</td>\n",
       "      <td>122.384676</td>\n",
       "      <td>0.0</td>\n",
       "      <td>2.042807</td>\n",
       "      <td>12.121209</td>\n",
       "      <td>2.919063e+06</td>\n",
       "      <td>138.895793</td>\n",
       "      <td>129.163181</td>\n",
       "      <td>141.768595</td>\n",
       "    </tr>\n",
       "    <tr>\n",
       "      <th>min</th>\n",
       "      <td>1.070460e+05</td>\n",
       "      <td>150.000000</td>\n",
       "      <td>4.0</td>\n",
       "      <td>4.000000</td>\n",
       "      <td>0.000000</td>\n",
       "      <td>1.070460e+05</td>\n",
       "      <td>0.000000</td>\n",
       "      <td>10.000000</td>\n",
       "      <td>150.000000</td>\n",
       "    </tr>\n",
       "    <tr>\n",
       "      <th>25%</th>\n",
       "      <td>3.561237e+06</td>\n",
       "      <td>244.000000</td>\n",
       "      <td>4.0</td>\n",
       "      <td>8.000000</td>\n",
       "      <td>1.000000</td>\n",
       "      <td>3.561237e+06</td>\n",
       "      <td>32.000000</td>\n",
       "      <td>199.000000</td>\n",
       "      <td>250.000000</td>\n",
       "    </tr>\n",
       "    <tr>\n",
       "      <th>50%</th>\n",
       "      <td>6.386210e+06</td>\n",
       "      <td>295.000000</td>\n",
       "      <td>4.0</td>\n",
       "      <td>8.000000</td>\n",
       "      <td>3.000000</td>\n",
       "      <td>6.386210e+06</td>\n",
       "      <td>193.000000</td>\n",
       "      <td>250.000000</td>\n",
       "      <td>349.000000</td>\n",
       "    </tr>\n",
       "    <tr>\n",
       "      <th>75%</th>\n",
       "      <td>8.225635e+06</td>\n",
       "      <td>350.000000</td>\n",
       "      <td>4.0</td>\n",
       "      <td>8.000000</td>\n",
       "      <td>12.000000</td>\n",
       "      <td>8.225635e+06</td>\n",
       "      <td>320.000000</td>\n",
       "      <td>350.000000</td>\n",
       "      <td>450.000000</td>\n",
       "    </tr>\n",
       "    <tr>\n",
       "      <th>max</th>\n",
       "      <td>1.025211e+07</td>\n",
       "      <td>775.000000</td>\n",
       "      <td>4.0</td>\n",
       "      <td>16.000000</td>\n",
       "      <td>59.000000</td>\n",
       "      <td>1.025211e+07</td>\n",
       "      <td>365.000000</td>\n",
       "      <td>775.000000</td>\n",
       "      <td>775.000000</td>\n",
       "    </tr>\n",
       "  </tbody>\n",
       "</table>\n",
       "</div>"
      ],
      "text/plain": [
       "                 id       price  bedrooms  accommodates  number_of_reviews  \\\n",
       "count  6.900000e+01   69.000000      69.0     69.000000          69.000000   \n",
       "mean   5.872371e+06  313.695652       4.0      8.275362           8.246377   \n",
       "std    2.919063e+06  122.384676       0.0      2.042807          12.121209   \n",
       "min    1.070460e+05  150.000000       4.0      4.000000           0.000000   \n",
       "25%    3.561237e+06  244.000000       4.0      8.000000           1.000000   \n",
       "50%    6.386210e+06  295.000000       4.0      8.000000           3.000000   \n",
       "75%    8.225635e+06  350.000000       4.0      8.000000          12.000000   \n",
       "max    1.025211e+07  775.000000       4.0     16.000000          59.000000   \n",
       "\n",
       "         listing_id  booked_days   min_price   max_price  \n",
       "count  6.900000e+01    69.000000   61.000000   61.000000  \n",
       "mean   5.872371e+06   183.753623  288.196721  357.639344  \n",
       "std    2.919063e+06   138.895793  129.163181  141.768595  \n",
       "min    1.070460e+05     0.000000   10.000000  150.000000  \n",
       "25%    3.561237e+06    32.000000  199.000000  250.000000  \n",
       "50%    6.386210e+06   193.000000  250.000000  349.000000  \n",
       "75%    8.225635e+06   320.000000  350.000000  450.000000  \n",
       "max    1.025211e+07   365.000000  775.000000  775.000000  "
      ]
     },
     "execution_count": 28,
     "metadata": {},
     "output_type": "execute_result"
    }
   ],
   "source": [
    "df[df['bedrooms'] == 4].describe()"
   ]
  },
  {
   "cell_type": "markdown",
   "metadata": {},
   "source": [
    "### By property type"
   ]
  },
  {
   "cell_type": "code",
   "execution_count": 29,
   "metadata": {},
   "outputs": [
    {
     "name": "stdout",
     "output_type": "stream",
     "text": [
      "Since there are only 0.03% rows with missing values we are going to drop them.\n"
     ]
    }
   ],
   "source": [
    "print('Since there are only {}% rows with missing values we are going to drop them.'.format(round(df['property_type'].isnull().mean()*100, 2)))"
   ]
  },
  {
   "cell_type": "code",
   "execution_count": 30,
   "metadata": {},
   "outputs": [
    {
     "data": {
      "text/plain": [
       "id                      0\n",
       "price                   0\n",
       "zipcode                 7\n",
       "bedrooms                0\n",
       "accommodates            0\n",
       "number_of_reviews       0\n",
       "cancellation_policy     0\n",
       "property_type           0\n",
       "room_type               0\n",
       "listing_id              0\n",
       "booked_days             0\n",
       "min_price              95\n",
       "max_price              95\n",
       "dtype: int64"
      ]
     },
     "execution_count": 30,
     "metadata": {},
     "output_type": "execute_result"
    }
   ],
   "source": [
    "df = df[~df['property_type'].isnull()]\n",
    "df.isnull().sum()"
   ]
  },
  {
   "cell_type": "code",
   "execution_count": 31,
   "metadata": {},
   "outputs": [
    {
     "data": {
      "image/png": "[encoded data removed]",
      "text/plain": [
       "<Figure size 432x288 with 1 Axes>"
      ]
     },
     "metadata": {
      "needs_background": "light"
     },
     "output_type": "display_data"
    }
   ],
   "source": [
    "grouped_prop_type = df.groupby('property_type')['booked_days'].apply(lambda x: x.sum()/(x.count()*365)).sort_values(ascending=False)\n",
    "grouped_prop_type.plot(kind='bar')\n",
    "plt.xlabel('Property type')\n",
    "plt.ylabel('Percent of time booked')\n",
    "plt.title('Percent of time booked by property type')\n",
    "plt.tight_layout()\n",
    "plt.savefig('Percent of time booked by property type');"
   ]
  },
  {
   "cell_type": "markdown",
   "metadata": {},
   "source": [
    "## What is the most popular location?"
   ]
  },
  {
   "cell_type": "code",
   "execution_count": 32,
   "metadata": {},
   "outputs": [
    {
     "name": "stdout",
     "output_type": "stream",
     "text": [
      "There are only 0.18% missing values in this column so we will drop these rows.\n"
     ]
    }
   ],
   "source": [
    "print('There are only {}% missing values in this column so we will drop these rows.'.format(round(df['zipcode'].isnull().mean()*100, 2)))"
   ]
  },
  {
   "cell_type": "code",
   "execution_count": 33,
   "metadata": {},
   "outputs": [
    {
     "data": {
      "text/plain": [
       "98122        420\n",
       "98103        394\n",
       "98102        338\n",
       "98105        225\n",
       "98109        202\n",
       "98144        200\n",
       "98101        199\n",
       "98121        195\n",
       "98107        180\n",
       "98115        178\n",
       "98112        166\n",
       "98117        164\n",
       "98118        153\n",
       "98119        143\n",
       "98116        112\n",
       "98104         95\n",
       "98125         71\n",
       "98199         66\n",
       "98126         63\n",
       "98106         58\n",
       "98108         56\n",
       "98133         46\n",
       "98136         43\n",
       "98177         19\n",
       "98178          7\n",
       "98146          5\n",
       "98134          5\n",
       "99\\n98122      1\n",
       "Name: zipcode, dtype: int64"
      ]
     },
     "execution_count": 33,
     "metadata": {},
     "output_type": "execute_result"
    }
   ],
   "source": [
    "df = df[~df['zipcode'].isnull()]\n",
    "df['zipcode'].value_counts()"
   ]
  },
  {
   "cell_type": "markdown",
   "metadata": {},
   "source": [
    "There is one zipcode that looks very weird. Quick lookup at [Wikipedia](https://en.wikipedia.org/wiki/Seattle) shows that there is no zipcode beginning with 99. Since there's only one such entry we will drop it."
   ]
  },
  {
   "cell_type": "code",
   "execution_count": 34,
   "metadata": {},
   "outputs": [],
   "source": [
    "df = df[df['zipcode']!='99\\n98122']"
   ]
  },
  {
   "cell_type": "code",
   "execution_count": 43,
   "metadata": {},
   "outputs": [
    {
     "data": {
      "image/png": "[encoded data removed]",
      "text/plain": [
       "<Figure size 432x288 with 2 Axes>"
      ]
     },
     "metadata": {
      "needs_background": "light"
     },
     "output_type": "display_data"
    }
   ],
   "source": [
    "# Properties count\n",
    "\n",
    "shapefile = 'Zip_Codes-shp/Zip_Codes'\n",
    "colormap = plt.cm.Purples \n",
    "\n",
    "#Seattle coordinates\n",
    "# lowerlon = -123\n",
    "# upperlon = -119\n",
    "# lowerlat = 46.2\n",
    "# upperlat = 49\n",
    "\n",
    "lowerlon = -123\n",
    "upperlon = -122\n",
    "lowerlat = 47.2\n",
    "upperlat = 48\n",
    "\n",
    "m = Basemap(\n",
    "    llcrnrlon=lowerlon,\n",
    "    llcrnrlat=lowerlat,\n",
    "    urcrnrlon=upperlon,\n",
    "    urcrnrlat=upperlat,\n",
    "    projection=\"lcc\",\n",
    "    resolution=\"c\",\n",
    "    lat_0=lowerlat,\n",
    "    lat_1=upperlat,\n",
    "    lon_0=lowerlon,\n",
    "    lon_1=upperlon\n",
    "    )\n",
    "\n",
    "\n",
    "shp_info = m.readshapefile(shapefile,'states',drawbounds=True\n",
    "    )\n",
    "\n",
    "\n",
    "popdens = {\n",
    "    str(i):j for (i, j) in zip(df['zipcode'].unique(),df.groupby('zipcode')['id'].count())\n",
    "    }\n",
    "\n",
    "# Choose a color for each state based on population density. Range\n",
    "# vmin-vmax has arbitrarily been set to 0-6. Fee lfree to experiment \n",
    "# with other ranges.\n",
    "ziplist = []\n",
    "colors  = {}\n",
    "vmin    = 0\n",
    "vmax    = df.groupby('zipcode')['id'].count().max()\n",
    "\n",
    "\n",
    "# Filter m.states_info to only Seattle zipcodes.\n",
    "zip_info   = m.states_info\n",
    "popdiv     = (max(popdens.values())/(vmax-vmin))\n",
    "popdensscl = {i:(j/popdiv) for (i,j) in popdens.items()}\n",
    "\n",
    "\n",
    "for d in zip_info:\n",
    "    iterzip = str(d['ZIP'])\n",
    "    iterzip = iterzip.replace(iterzip, '{}'.format(iterzip))\n",
    "\n",
    "    if iterzip in popdensscl.keys():\n",
    "        iterpop = popdensscl.get(iterzip,0)\n",
    "        colors[iterzip] = colormap(iterpop/vmax)[:3]\n",
    "    ziplist.append(iterzip)\n",
    "\n",
    "\n",
    "for nshape,seg in enumerate(m.states):\n",
    "    i, j = zip(*seg)\n",
    "    if ziplist[nshape] in popdensscl.keys():\n",
    "        color = rgb2hex(colors[ziplist[nshape]])\n",
    "        edgecolor = \"#000000\"\n",
    "        plt.fill(i,j,color=color)\n",
    "\n",
    "\n",
    "# # (Optional) include colorbar.\n",
    "# sm = plt.cm.ScalarMappable(\n",
    "#     cmap=colormap,norm=mpl.colors.Normalize(vmin=vmin, vmax=vmax*5)\n",
    "#     )\n",
    "\n",
    "mm = plt.cm.ScalarMappable(cmap=colormap)\n",
    "mm.set_array([vmin, vmax])\n",
    "plt.colorbar(mm,ticks=np.arange(vmin, vmax, 100),orientation=\"vertical\")\n",
    "plt.title('Properties count by zipcode')\n",
    "\n",
    "plt.savefig('Properties count by zipcode', bbox_inches = 'tight')\n",
    "plt.show();"
   ]
  },
  {
   "cell_type": "code",
   "execution_count": 40,
   "metadata": {},
   "outputs": [
    {
     "ename": "OSError",
     "evalue": "cannot locate Zip_Codes.dbf",
     "output_type": "error",
     "traceback": [
      "\u001b[0;31m---------------------------------------------------------------------------\u001b[0m",
      "\u001b[0;31mOSError\u001b[0m                                   Traceback (most recent call last)",
      "\u001b[0;32m<ipython-input-40-25225a6ff0a6>\u001b[0m in \u001b[0;36m<module>\u001b[0;34m\u001b[0m\n\u001b[1;32m     28\u001b[0m \u001b[0;34m\u001b[0m\u001b[0m\n\u001b[1;32m     29\u001b[0m \u001b[0;34m\u001b[0m\u001b[0m\n\u001b[0;32m---> 30\u001b[0;31m shp_info = m.readshapefile(shapefile,'states',drawbounds=True\n\u001b[0m\u001b[1;32m     31\u001b[0m     )\n\u001b[1;32m     32\u001b[0m \u001b[0;34m\u001b[0m\u001b[0m\n",
      "\u001b[0;32m/opt/anaconda3/envs/python37/lib/python3.8/site-packages/mpl_toolkits/basemap/__init__.py\u001b[0m in \u001b[0;36mreadshapefile\u001b[0;34m(self, shapefile, name, drawbounds, zorder, linewidth, color, antialiased, ax, default_encoding)\u001b[0m\n\u001b[1;32m   2134\u001b[0m             \u001b[0;32mraise\u001b[0m \u001b[0mIOError\u001b[0m\u001b[0;34m(\u001b[0m\u001b[0;34m'cannot locate %s.shx'\u001b[0m\u001b[0;34m%\u001b[0m\u001b[0mshapefile\u001b[0m\u001b[0;34m)\u001b[0m\u001b[0;34m\u001b[0m\u001b[0;34m\u001b[0m\u001b[0m\n\u001b[1;32m   2135\u001b[0m         \u001b[0;32mif\u001b[0m \u001b[0;32mnot\u001b[0m \u001b[0mos\u001b[0m\u001b[0;34m.\u001b[0m\u001b[0mpath\u001b[0m\u001b[0;34m.\u001b[0m\u001b[0mexists\u001b[0m\u001b[0;34m(\u001b[0m\u001b[0;34m'%s.dbf'\u001b[0m\u001b[0;34m%\u001b[0m\u001b[0mshapefile\u001b[0m\u001b[0;34m)\u001b[0m\u001b[0;34m:\u001b[0m\u001b[0;34m\u001b[0m\u001b[0;34m\u001b[0m\u001b[0m\n\u001b[0;32m-> 2136\u001b[0;31m             \u001b[0;32mraise\u001b[0m \u001b[0mIOError\u001b[0m\u001b[0;34m(\u001b[0m\u001b[0;34m'cannot locate %s.dbf'\u001b[0m\u001b[0;34m%\u001b[0m\u001b[0mshapefile\u001b[0m\u001b[0;34m)\u001b[0m\u001b[0;34m\u001b[0m\u001b[0;34m\u001b[0m\u001b[0m\n\u001b[0m\u001b[1;32m   2137\u001b[0m         \u001b[0;31m# open shapefile, read vertices for each object, convert\u001b[0m\u001b[0;34m\u001b[0m\u001b[0;34m\u001b[0m\u001b[0;34m\u001b[0m\u001b[0m\n\u001b[1;32m   2138\u001b[0m         \u001b[0;31m# to map projection coordinates (only works for 2D shape types).\u001b[0m\u001b[0;34m\u001b[0m\u001b[0;34m\u001b[0m\u001b[0;34m\u001b[0m\u001b[0m\n",
      "\u001b[0;31mOSError\u001b[0m: cannot locate Zip_Codes.dbf"
     ]
    }
   ],
   "source": [
    "# Percent of time booked\n",
    "\n",
    "colormap = plt.cm.Purples \n",
    "\n",
    "#Seattle coordinates\n",
    "# lowerlon = -122\n",
    "# upperlon = -119\n",
    "# lowerlat = 46.2\n",
    "# upperlat = 49\n",
    "\n",
    "lowerlon = -123\n",
    "upperlon = -122\n",
    "lowerlat = 47.2\n",
    "upperlat = 48\n",
    "\n",
    "m = Basemap(\n",
    "    llcrnrlon=lowerlon,\n",
    "    llcrnrlat=lowerlat,\n",
    "    urcrnrlon=upperlon,\n",
    "    urcrnrlat=upperlat,\n",
    "    projection=\"lcc\",\n",
    "    resolution=\"c\",\n",
    "    lat_0=lowerlat,\n",
    "    lat_1=upperlat,\n",
    "    lon_0=lowerlon,\n",
    "    lon_1=upperlon\n",
    "    )\n",
    "\n",
    "\n",
    "shp_info = m.readshapefile(shapefile,'states',drawbounds=True\n",
    "    )\n",
    "\n",
    "\n",
    "popdens = {\n",
    "    str(i):j for (i, j) in zip(df['zipcode'].unique(),df.groupby('zipcode')['booked_days'] \\\n",
    "                               .apply(lambda x: x.sum()/(x.count()*365)))\n",
    "    }\n",
    "\n",
    "# Choose a color for each state based on population density. Range\n",
    "# vmin-vmax has arbitrarily been set to 0-6. Fee lfree to experiment \n",
    "# with other ranges.\n",
    "ziplist = []\n",
    "colors  = {}\n",
    "vmin    = 0\n",
    "vmax    = df.groupby('zipcode')['booked_days'] \\\n",
    "                               .apply(lambda x: x.sum()/(x.count()*365)).max()\n",
    "\n",
    "\n",
    "# Filter m.states_info to only Seattle zipcodes.\n",
    "zip_info   = m.states_info\n",
    "popdiv     = (max(popdens.values())/(vmax-vmin))\n",
    "popdensscl = {i:(j/popdiv) for (i,j) in popdens.items()}\n",
    "\n",
    "\n",
    "for d in zip_info:\n",
    "    iterzip = str(d['ZIP'])\n",
    "    iterzip = iterzip.replace(iterzip, '{}'.format(iterzip))\n",
    "\n",
    "    if iterzip in popdensscl.keys():\n",
    "        iterpop = popdensscl.get(iterzip,0)\n",
    "        colors[iterzip] = colormap(iterpop/vmax)[:3]\n",
    "    ziplist.append(iterzip)\n",
    "\n",
    "\n",
    "for nshape,seg in enumerate(m.states):\n",
    "    i, j = zip(*seg)\n",
    "    if ziplist[nshape] in popdensscl.keys():\n",
    "        color = rgb2hex(colors[ziplist[nshape]])\n",
    "        edgecolor = \"#000000\"\n",
    "        plt.fill(i,j,color=color)\n",
    "\n",
    "\n",
    "mm = plt.cm.ScalarMappable(cmap=colormap)\n",
    "mm.set_array([vmin, vmax])\n",
    "plt.colorbar(mm,ticks=np.arange(vmin, vmax, 0.2),orientation=\"vertical\")\n",
    "plt.title('Percent of time booked by zipcode')\n",
    "\n",
    "plt.savefig('Percent of time booked by zipcode',  bbox_inches = 'tight')\n",
    "plt.show();"
   ]
  },
  {
   "cell_type": "markdown",
   "metadata": {},
   "source": [
    "## Number of reviews"
   ]
  },
  {
   "cell_type": "code",
   "execution_count": null,
   "metadata": {},
   "outputs": [],
   "source": [
    "plt.scatter(data=df, x='number_of_reviews', y = 'booked_days')\n",
    "plt.title('Bookings per number of reviews')\n",
    "plt.xlabel('Number of reviews')\n",
    "plt.ylabel('Number of booked days')\n",
    "plt.savefig('Bookings per number of reviews');"
   ]
  },
  {
   "cell_type": "markdown",
   "metadata": {},
   "source": [
    "## Price per person"
   ]
  },
  {
   "cell_type": "markdown",
   "metadata": {},
   "source": [
    "In the dataset we have a field with price. Since usually bigger places are more expensive than smaller ones, we need to normalize the price. We are going to do that by using the field 'accommodates' which contains the number of persons the property can accommodate."
   ]
  },
  {
   "cell_type": "code",
   "execution_count": null,
   "metadata": {},
   "outputs": [],
   "source": [
    "df['price_per_person'] = df['price']/df['accommodates']\n",
    "plt.scatter(data=df, x='price_per_person', y = 'booked_days')\n",
    "plt.title('Bookings per price')\n",
    "plt.xlabel('Price per person')\n",
    "plt.ylabel('Number of booked days')\n",
    "plt.savefig('Bookings per price');"
   ]
  }
 ],
 "metadata": {
  "kernelspec": {
   "display_name": "Python37",
   "language": "python",
   "name": "python37"
  },
  "language_info": {
   "codemirror_mode": {
    "name": "ipython",
    "version": 3
   },
   "file_extension": ".py",
   "mimetype": "text/x-python",
   "name": "python",
   "nbconvert_exporter": "python",
   "pygments_lexer": "ipython3",
   "version": "3.8.3"
  }
 },
 "nbformat": 4,
 "nbformat_minor": 4
}
